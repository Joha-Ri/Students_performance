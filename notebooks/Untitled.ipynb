{
 "cells": [
  {
   "cell_type": "code",
   "execution_count": 38,
   "id": "dc5bc763-9a3f-4798-8953-8c8ce29dff3a",
   "metadata": {},
   "outputs": [],
   "source": [
    "import mysql.connector\n",
    "import csv\n",
    "\n",
    "cnx = mysql.connector.connect(user='root', password='Formation20!',\n",
    "host='127.0.0.1', port=3306,\n",
    "database='st_perf')\n",
    "mycursor = cnx.cursor()"
   ]
  },
  {
   "cell_type": "code",
   "execution_count": 39,
   "id": "4ecfff6e-d483-4696-81e5-e413865f5a05",
   "metadata": {},
   "outputs": [],
   "source": [
    "import pandas as np\n",
    "import numpy as pd\n",
    "import matplotlib.pyplot as plt\n",
    "import seaborn as sns\n",
    "import statsmodels.api as sm\n",
    "from scipy import stats\n",
    "from statsmodels.formula.api import ols\n",
    "from statsmodels.stats.proportion import proportions_ztest\n",
    "from scipy.stats import ttest_ind"
   ]
  },
  {
   "cell_type": "code",
   "execution_count": 40,
   "id": "052c3e27-5fec-4272-a9b5-7a36f34ba60c",
   "metadata": {},
   "outputs": [],
   "source": [
    "request = '''select Students.ID, Age, Gender, Name as Ethnicity, ParentalEducationLevel, StudyTimeWeekly, ParentalSupport, Activitytype, GPA,GradeClass\n",
    "from Students, ParentalInfo, Extracurricularactivities, Ethnicity, Student_Ethnicity, student_to_activities\n",
    "where Students.ID = Student_Ethnicity.StudentID\n",
    "and Student_Ethnicity.EthnicityID = Ethnicity.id\n",
    "and Students.ID = student_to_activities.StudentID\n",
    "and student_to_activities.ActivityID = Extracurricularactivities.ExtracurricularactivitiesID'''\n",
    "mycursor.execute(request)\n"
   ]
  },
  {
   "cell_type": "code",
   "execution_count": 41,
   "id": "b1a55458-2940-4c58-9743-65ea5bbfcffa",
   "metadata": {},
   "outputs": [],
   "source": [
    "results = mycursor.fetchall()"
   ]
  },
  {
   "cell_type": "code",
   "execution_count": 48,
   "id": "943c8928-17b7-4e8e-ad5e-56d4421608cf",
   "metadata": {},
   "outputs": [
    {
     "name": "stdout",
     "output_type": "stream",
     "text": [
      "(3194, 15, 0, 'Other', 2, 11.627331144091498, 2, 'Extracurricular', 0.6189366143827062, 4)\n",
      "(3193, 16, 1, 'African American', 2, 15.827054473046688, 2, 'Extracurricular', 0.8181261027428247, 2)\n",
      "(3192, 15, 1, 'Asian', 2, 16.111616528824673, 2, 'Extracurricular', 3.2229374986891246, 1)\n",
      "(3191, 16, 0, 'Asian', 2, 10.626615853463514, 2, 'Extracurricular', 0.8719991150294315, 3)\n",
      "(3187, 15, 1, 'Other', 2, 8.384984986379315, 2, 'Extracurricular', 1.5578704926030598, 3)\n",
      "(3184, 16, 0, 'Caucasian', 2, 13.735355911943392, 2, 'Extracurricular', 3.545153035874012, 2)\n",
      "(3180, 18, 1, 'African American', 2, 15.762378798904379, 2, 'Extracurricular', 2.435958199527401, 4)\n",
      "(3175, 15, 1, 'Caucasian', 2, 2.2476594985741882, 2, 'Extracurricular', 1.687307435197655, 4)\n",
      "(3173, 15, 1, 'Caucasian', 2, 13.023954241906928, 2, 'Extracurricular', 3.138784394067383, 1)\n",
      "(3169, 16, 0, 'Asian', 2, 1.1659440772471408, 2, 'Extracurricular', 1.6356867327778124, 4)\n",
      "(3168, 17, 1, 'Other', 2, 15.234854129390317, 2, 'Extracurricular', 2.071972431377945, 3)\n",
      "(3167, 18, 1, 'Other', 2, 16.868555914180984, 2, 'Extracurricular', 2.9713320163258232, 2)\n",
      "(3165, 16, 0, 'African American', 2, 13.480027421397072, 2, 'Extracurricular', 0.8142853492286524, 4)\n",
      "(3163, 17, 0, 'Caucasian', 2, 6.212019427906592, 2, 'Extracurricular', 1.8815889866263618, 4)\n",
      "(3158, 17, 1, 'Asian', 2, 14.329525252843338, 2, 'Extracurricular', 3.6364165678600315, 0)\n",
      "(3155, 18, 1, 'Caucasian', 2, 13.91355326430678, 2, 'Extracurricular', 2.9868916209305363, 2)\n",
      "(3151, 15, 1, 'Caucasian', 2, 15.101364082632502, 2, 'Extracurricular', 2.525086321570887, 2)\n",
      "(3149, 16, 1, 'Caucasian', 2, 3.646703671564391, 2, 'Extracurricular', 3.1832324893858304, 1)\n",
      "(3147, 15, 0, 'Caucasian', 2, 12.324485032139059, 2, 'Extracurricular', 3.3339700023673537, 1)\n",
      "(3145, 15, 1, 'Caucasian', 2, 4.1932184422340075, 2, 'Extracurricular', 1.5269602894052965, 4)\n",
      "(3144, 15, 0, 'African American', 2, 14.507792033236653, 2, 'Extracurricular', 3.603507572240497, 0)\n",
      "(3143, 16, 0, 'African American', 2, 12.97068318066685, 2, 'Extracurricular', 1.65178667236737, 4)\n",
      "(3142, 16, 0, 'Caucasian', 2, 7.397772512962497, 2, 'Extracurricular', 2.81347034515229, 2)\n",
      "(3140, 16, 1, 'Caucasian', 2, 1.998637541088193, 2, 'Extracurricular', 1.7820606670994417, 4)\n",
      "(3134, 15, 1, 'Caucasian', 2, 7.027118693098535, 2, 'Extracurricular', 1.2945928801079334, 4)\n",
      "(3133, 16, 1, 'Asian', 2, 3.294680177754481, 2, 'Extracurricular', 0.8092601434109807, 4)\n",
      "(3130, 18, 0, 'African American', 2, 2.7791981049783243, 2, 'Extracurricular', 1.948327515860377, 4)\n",
      "(3129, 17, 0, 'Asian', 2, 14.960694786831773, 2, 'Extracurricular', 1.1767815056705988, 4)\n",
      "(3128, 17, 1, 'Caucasian', 2, 10.10331423045465, 2, 'Extracurricular', 3.812757187598897, 0)\n",
      "(3127, 15, 1, 'Caucasian', 2, 16.930689862468103, 2, 'Extracurricular', 3.5974890937641693, 0)\n",
      "(3124, 15, 1, 'Caucasian', 2, 1.969892833588065, 2, 'Extracurricular', 1.0619359966520148, 4)\n",
      "(3123, 17, 0, 'African American', 2, 18.868562145305706, 2, 'Extracurricular', 1.4868656515688803, 4)\n",
      "(3122, 18, 0, 'African American', 2, 16.028336218172544, 2, 'Extracurricular', 1.2687721230682185, 4)\n",
      "(3121, 18, 0, 'Caucasian', 2, 17.514340731178788, 2, 'Extracurricular', 1.7859269858399722, 4)\n",
      "(3119, 15, 0, 'Caucasian', 2, 18.974098364783615, 2, 'Extracurricular', 2.3916876827143443, 3)\n",
      "(3115, 15, 0, 'Asian', 2, 10.240467782175187, 2, 'Extracurricular', 1.2335870210314048, 4)\n",
      "(3110, 16, 0, 'African American', 2, 14.64601541216362, 2, 'Extracurricular', 2.804363175110951, 2)\n",
      "(3109, 17, 0, 'African American', 2, 16.926360255617475, 2, 'Extracurricular', 3.03210533252155, 1)\n",
      "(3104, 16, 0, 'African American', 2, 1.5957824726800074, 2, 'Extracurricular', 2.8273429543273716, 2)\n",
      "(3100, 17, 0, 'African American', 2, 6.7233067715915995, 2, 'Extracurricular', 2.035367286041147, 3)\n",
      "(3099, 16, 0, 'Caucasian', 2, 14.389404626267623, 2, 'Extracurricular', 1.895283343248585, 4)\n",
      "(3095, 17, 1, 'Caucasian', 2, 6.195306282858068, 2, 'Extracurricular', 2.6709475543243455, 2)\n",
      "(3093, 16, 0, 'Caucasian', 2, 2.9203381118421645, 2, 'Extracurricular', 2.5210277348652257, 2)\n",
      "(3090, 15, 1, 'Caucasian', 2, 0.895028678524763, 2, 'Extracurricular', 0.14706886999773133, 4)\n",
      "(3086, 15, 1, 'Caucasian', 2, 10.138602321543889, 2, 'Extracurricular', 1.3763806884640657, 4)\n",
      "(3080, 18, 1, 'Other', 2, 6.544423663229077, 2, 'Extracurricular', 1.2083322825671698, 4)\n",
      "(3079, 17, 1, 'Other', 2, 15.416290433286424, 2, 'Extracurricular', 2.4543067018642812, 3)\n",
      "(3078, 17, 0, 'Asian', 2, 6.083105089709302, 2, 'Extracurricular', 1.899340250146643, 4)\n",
      "(3076, 17, 1, 'Caucasian', 2, 12.670705872323405, 2, 'Extracurricular', 2.8504352924310816, 2)\n",
      "(3075, 17, 1, 'Caucasian', 2, 0.8466898503660669, 2, 'Extracurricular', 0.6329881184701, 4)\n"
     ]
    }
   ],
   "source": [
    "for l in results[:50]:\n",
    "    pprint(l)"
   ]
  },
  {
   "cell_type": "code",
   "execution_count": 50,
   "id": "ee8bd509-4e40-4a36-b1e2-376ef5e9097c",
   "metadata": {},
   "outputs": [],
   "source": [
    "df = np.DataFrame(results, columns=['StudentID', 'Age', 'Gender', 'Ethnicity', 'ParentalEducationLevel', 'StudyTimeWeekly', 'ParentalSupport', 'Activitytype', 'GPA','GradeClass'])"
   ]
  },
  {
   "cell_type": "code",
   "execution_count": 53,
   "id": "6158ecf8-8e1c-42d7-a0f9-4d535bd33dd6",
   "metadata": {},
   "outputs": [
    {
     "data": {
      "text/plain": [
       "(5956080, 10)"
      ]
     },
     "execution_count": 53,
     "metadata": {},
     "output_type": "execute_result"
    }
   ],
   "source": [
    "df.shape"
   ]
  },
  {
   "cell_type": "code",
   "execution_count": 52,
   "id": "785063b6-1915-4d9b-a4f1-39d388d8ff71",
   "metadata": {},
   "outputs": [
    {
     "name": "stdout",
     "output_type": "stream",
     "text": [
      "         StudentID  Age  Gender         Ethnicity  ParentalEducationLevel  \\\n",
      "0             3194   15       0             Other                       2   \n",
      "1             3193   16       1  African American                       2   \n",
      "2             3192   15       1             Asian                       2   \n",
      "3             3191   16       0             Asian                       2   \n",
      "4             3187   15       1             Other                       2   \n",
      "...            ...  ...     ...               ...                     ...   \n",
      "5956075       3207   17       1         Caucasian                       2   \n",
      "5956076       3204   17       1  African American                       2   \n",
      "5956077       3201   15       1  African American                       2   \n",
      "5956078       3200   15       0         Caucasian                       2   \n",
      "5956079       3195   15       0         Caucasian                       2   \n",
      "\n",
      "         StudyTimeWeekly  ParentalSupport     Activitytype       GPA  \\\n",
      "0              11.627331                2  Extracurricular  0.618937   \n",
      "1              15.827054                2  Extracurricular  0.818126   \n",
      "2              16.111617                2  Extracurricular  3.222937   \n",
      "3              10.626616                2  Extracurricular  0.871999   \n",
      "4               8.384985                2  Extracurricular  1.557870   \n",
      "...                  ...              ...              ...       ...   \n",
      "5956075        11.561501                2  Extracurricular  1.989455   \n",
      "5956076         5.959596                2  Extracurricular  3.453791   \n",
      "5956077        13.906379                2  Extracurricular  2.378050   \n",
      "5956078         4.933769                2  Extracurricular  2.555668   \n",
      "5956079        15.615710                2  Extracurricular  1.174610   \n",
      "\n",
      "         GradeClass  \n",
      "0                 4  \n",
      "1                 2  \n",
      "2                 1  \n",
      "3                 3  \n",
      "4                 3  \n",
      "...             ...  \n",
      "5956075           4  \n",
      "5956076           1  \n",
      "5956077           3  \n",
      "5956078           4  \n",
      "5956079           0  \n",
      "\n",
      "[5956080 rows x 10 columns]\n"
     ]
    }
   ],
   "source": [
    "print(df)"
   ]
  },
  {
   "cell_type": "code",
   "execution_count": null,
   "id": "7b3de828-8ad7-4c55-842b-09c6bb05ce14",
   "metadata": {},
   "outputs": [],
   "source": []
  }
 ],
 "metadata": {
  "kernelspec": {
   "display_name": "stp_venv",
   "language": "python",
   "name": "stp_venv"
  },
  "language_info": {
   "codemirror_mode": {
    "name": "ipython",
    "version": 3
   },
   "file_extension": ".py",
   "mimetype": "text/x-python",
   "name": "python",
   "nbconvert_exporter": "python",
   "pygments_lexer": "ipython3",
   "version": "3.12.4"
  }
 },
 "nbformat": 4,
 "nbformat_minor": 5
}
